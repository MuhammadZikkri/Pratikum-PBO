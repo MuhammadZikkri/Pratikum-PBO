{
  "nbformat": 4,
  "nbformat_minor": 0,
  "metadata": {
    "colab": {
      "provenance": [],
      "authorship_tag": "ABX9TyOIjS/LuGd7PZMzQU5athpb",
      "include_colab_link": true
    },
    "kernelspec": {
      "name": "python3",
      "display_name": "Python 3"
    },
    "language_info": {
      "name": "python"
    }
  },
  "cells": [
    {
      "cell_type": "markdown",
      "metadata": {
        "id": "view-in-github",
        "colab_type": "text"
      },
      "source": [
        "<a href=\"https://colab.research.google.com/github/MuhammadZikkri/Pratikum-PBO/blob/main/pewaris2.ipynb\" target=\"_parent\"><img src=\"https://colab.research.google.com/assets/colab-badge.svg\" alt=\"Open In Colab\"/></a>"
      ]
    },
    {
      "cell_type": "code",
      "execution_count": 2,
      "metadata": {
        "colab": {
          "base_uri": "https://localhost:8080/"
        },
        "id": "QWP70NEFRjet",
        "outputId": "7ade45b0-6f69-4bfe-c963-87df6e47809a"
      },
      "outputs": [
        {
          "output_type": "stream",
          "name": "stdout",
          "text": [
            "--- Atribut Kendaraan ---\n",
            "Mobil: {'brand': 'Ford', 'model': 'Focus', 'year': 2008, 'number_of_doors': 5, 'number_of_wheels': 4}\n",
            "Motor: {'brand': 'Honda', 'model': 'Scoopy', 'year': 2018, 'number_of_wheels': 2}\n",
            "\n",
            "--- Aksi Kendaraan ---\n",
            "2008 Ford Focus is starting.\n",
            "Car honks: Beep beep!\n",
            "2008 Ford Focus is stopping.\n",
            "2018 Honda Scoopy is starting.\n",
            "Bike bell rings: Ring ring!\n",
            "2018 Honda Scoopy is stopping.\n"
          ]
        }
      ],
      "source": [
        "# Kelas induk\n",
        "class Vehicle:\n",
        "    def __init__(self, brand, model, year):\n",
        "        self.brand = brand\n",
        "        self.model = model\n",
        "        self.year = year\n",
        "\n",
        "    def start(self):\n",
        "        print(f\"{self} is starting.\")\n",
        "\n",
        "    def stop(self):\n",
        "        print(f\"{self} is stopping.\")\n",
        "\n",
        "    def __str__(self):\n",
        "        return f\"{self.year} {self.brand} {self.model}\"\n",
        "\n",
        "# Subkelas Car\n",
        "class Car(Vehicle):\n",
        "    def __init__(self, brand, model, year, number_of_doors, number_of_wheels):\n",
        "        super().__init__(brand, model, year)\n",
        "        self.number_of_doors = number_of_doors\n",
        "        self.number_of_wheels = number_of_wheels\n",
        "\n",
        "    def honk(self):\n",
        "        print(\"Car honks: Beep beep!\")\n",
        "\n",
        "# Subkelas Bike\n",
        "class Bike(Vehicle):\n",
        "    def __init__(self, brand, model, year, number_of_wheels):\n",
        "        super().__init__(brand, model, year)\n",
        "        self.number_of_wheels = number_of_wheels\n",
        "\n",
        "    def ring_bell(self):\n",
        "        print(\"Bike bell rings: Ring ring!\")\n",
        "\n",
        "# Membuat objek\n",
        "car = Car(\"Ford\", \"Focus\", 2008, 5, 4)\n",
        "bike = Bike(\"Honda\", \"Scoopy\", 2018, 2)\n",
        "\n",
        "# Eksperimen: Menampilkan atribut dan menjalankan metode\n",
        "print(\"--- Atribut Kendaraan ---\")\n",
        "print(\"Mobil:\", car.__dict__)\n",
        "print(\"Motor:\", bike.__dict__)\n",
        "\n",
        "print(\"\\n--- Aksi Kendaraan ---\")\n",
        "car.start()\n",
        "car.honk()\n",
        "car.stop()\n",
        "\n",
        "bike.start()\n",
        "bike.ring_bell()\n",
        "bike.stop()\n"
      ]
    }
  ]
}