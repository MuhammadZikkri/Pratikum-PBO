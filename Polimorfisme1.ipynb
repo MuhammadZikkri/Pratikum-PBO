{
  "nbformat": 4,
  "nbformat_minor": 0,
  "metadata": {
    "colab": {
      "provenance": [],
      "authorship_tag": "ABX9TyNwnXedD56DQ+8ap0la5pGo",
      "include_colab_link": true
    },
    "kernelspec": {
      "name": "python3",
      "display_name": "Python 3"
    },
    "language_info": {
      "name": "python"
    }
  },
  "cells": [
    {
      "cell_type": "markdown",
      "metadata": {
        "id": "view-in-github",
        "colab_type": "text"
      },
      "source": [
        "<a href=\"https://colab.research.google.com/github/MuhammadZikkri/Pratikum-PBO/blob/main/Polimorfisme1.ipynb\" target=\"_parent\"><img src=\"https://colab.research.google.com/assets/colab-badge.svg\" alt=\"Open In Colab\"/></a>"
      ]
    },
    {
      "cell_type": "code",
      "execution_count": 2,
      "metadata": {
        "colab": {
          "base_uri": "https://localhost:8080/"
        },
        "id": "4xAsFhX4TCoh",
        "outputId": "fd788b34-50f9-4a60-8e42-ef19c241b912"
      },
      "outputs": [
        {
          "output_type": "stream",
          "name": "stdout",
          "text": [
            "🚗🚲 DAFTAR KENDARAAN:\n",
            "\n",
            "🔹 2020 Toyota Yaris\n",
            "Car 2020 Toyota Yaris is roaring to life!\n",
            "2020 Toyota Yaris is stopping.\n",
            "   Ini adalah mobil.\n",
            "----------------------------------------\n",
            "🔹 2022 Yamaha NMax\n",
            "Bike 2022 Yamaha NMax is zipping off!\n",
            "2022 Yamaha NMax is stopping.\n",
            "   Ini adalah sepeda motor.\n",
            "----------------------------------------\n",
            "🔹 2023 Tesla Model 3\n",
            "Car 2023 Tesla Model 3 is roaring to life!\n",
            "2023 Tesla Model 3 is stopping.\n",
            "   Ini adalah mobil.\n",
            "----------------------------------------\n",
            "🔹 2021 Polygon Premier\n",
            "Bike 2021 Polygon Premier is zipping off!\n",
            "2021 Polygon Premier is stopping.\n",
            "   Ini adalah sepeda motor.\n",
            "----------------------------------------\n"
          ]
        }
      ],
      "source": [
        "# Kelas induk\n",
        "class Vehicle:\n",
        "    def __init__(self, brand, model, year):\n",
        "        self.brand = brand\n",
        "        self.model = model\n",
        "        self.year = year\n",
        "\n",
        "    def start(self):\n",
        "        print(f\"{self} is starting.\")\n",
        "\n",
        "    def stop(self):\n",
        "        print(f\"{self} is stopping.\")\n",
        "\n",
        "    def __str__(self):\n",
        "        return f\"{self.year} {self.brand} {self.model}\"\n",
        "\n",
        "# Subclass Car\n",
        "class Car(Vehicle):\n",
        "    def __init__(self, brand, model, year, number_of_doors, number_of_wheels):\n",
        "        super().__init__(brand, model, year)\n",
        "        self.number_of_doors = number_of_doors\n",
        "        self.number_of_wheels = number_of_wheels\n",
        "\n",
        "    def start(self):\n",
        "        print(f\"Car {self} is roaring to life!\")\n",
        "\n",
        "# Subclass Bike\n",
        "class Bike(Vehicle):\n",
        "    def __init__(self, brand, model, year, number_of_wheels):\n",
        "        super().__init__(brand, model, year)\n",
        "        self.number_of_wheels = number_of_wheels\n",
        "\n",
        "    def start(self):\n",
        "        print(f\"Bike {self} is zipping off!\")\n",
        "\n",
        "# Membuat objek\n",
        "vehicles = [\n",
        "    Car(\"Toyota\", \"Yaris\", 2020, 4, 4),\n",
        "    Bike(\"Yamaha\", \"NMax\", 2022, 2),\n",
        "    Car(\"Tesla\", \"Model 3\", 2023, 4, 4),\n",
        "    Bike(\"Polygon\", \"Premier\", 2021, 2)\n",
        "]\n",
        "\n",
        "# Eksperimen: Menampilkan semua kendaraan dan memanggil metode\n",
        "print(\"🚗🚲 DAFTAR KENDARAAN:\\n\")\n",
        "for v in vehicles:\n",
        "    print(f\"🔹 {v}\")\n",
        "    v.start()\n",
        "    v.stop()\n",
        "    if isinstance(v, Car):\n",
        "        print(\"   Ini adalah mobil.\")\n",
        "    elif isinstance(v, Bike):\n",
        "        print(\"   Ini adalah sepeda motor.\")\n",
        "    print(\"-\" * 40)\n"
      ]
    }
  ]
}